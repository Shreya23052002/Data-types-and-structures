{
  "nbformat": 4,
  "nbformat_minor": 0,
  "metadata": {
    "colab": {
      "provenance": []
    },
    "kernelspec": {
      "name": "python3",
      "display_name": "Python 3"
    },
    "language_info": {
      "name": "python"
    }
  },
  "cells": [
    {
      "cell_type": "markdown",
      "source": [
        "# Data Types and Structures Questions"
      ],
      "metadata": {
        "id": "lsREXEbi_Ozf"
      }
    },
    {
      "cell_type": "markdown",
      "source": [
        "Question no. 1 What are data structures, and why are they important"
      ],
      "metadata": {
        "id": "yX4cmpPE_XIg"
      }
    },
    {
      "cell_type": "markdown",
      "source": [
        "Answer: Data structures are specific ways of organizing, managing, and storing data in a computer so that it can be used efficiently.They define the relationship between data and the operations that can be performed on the data.\n",
        "\n",
        "### why are they important\n",
        "- Efficient Data Management\n",
        "- Optimizing Performance\n",
        "- Problem Solving\n",
        "- Code Reusability and Modularity\n",
        "- Memory Management\n"
      ],
      "metadata": {
        "id": "DBRlyc04_kg5"
      }
    },
    {
      "cell_type": "markdown",
      "source": [
        "Question no. 2 Explain the difference between mutable and immutable data types with examples"
      ],
      "metadata": {
        "id": "c6wj46a9AqBF"
      }
    },
    {
      "cell_type": "markdown",
      "source": [
        "Answer:\n",
        "### Mutable Data type:\n",
        "Mutable data types are those whose values can be changed in place after creation. This means you can modify, update, or change the internal state of the object without creating a new object.\n",
        "\n",
        "Example: List, Dict, Sets\n",
        "\n",
        "###Imutable Data types:\n",
        "Immutable data types are those whose values can not be changed in place after creation. This means you can not modify, update, or change the internal state of the object after creation.\n",
        "\n",
        "Example: Strings, Tuple"
      ],
      "metadata": {
        "id": "vPDLCYyiA-HJ"
      }
    },
    {
      "cell_type": "markdown",
      "source": [
        "Question no. 3 What are the main differences between lists and tuples in Python"
      ],
      "metadata": {
        "id": "9XHgPYLACLS5"
      }
    },
    {
      "cell_type": "markdown",
      "source": [
        "Answer:\n",
        "The main difference in lists and tuples are that lists are mutable we can change the value in list after creation. Talking about tuples we can not change the value of tuples after creation. In tuple we use paranthesis and in list we use square brackets."
      ],
      "metadata": {
        "id": "1Nvs0XxOCOUp"
      }
    },
    {
      "cell_type": "markdown",
      "source": [
        "Question no. 4  Describe how dictionaries store data"
      ],
      "metadata": {
        "id": "emlNRxjZC_Eu"
      }
    },
    {
      "cell_type": "markdown",
      "source": [
        "Answer: A dictionary in Python is a collection of key-value pairs, where each key is unique, and each key maps to a corresponding value."
      ],
      "metadata": {
        "id": "_tSUoNVRDGis"
      }
    },
    {
      "cell_type": "code",
      "source": [
        "# Dict\n",
        "dict = {\"name\":\"Shreya\"}\n",
        "print(dict)\n",
        "print(dict[\"name\"])\n"
      ],
      "metadata": {
        "colab": {
          "base_uri": "https://localhost:8080/"
        },
        "id": "jjnmWlHKDuaa",
        "outputId": "b82d00dd-26f6-43cc-fd80-6d7ad1e60705"
      },
      "execution_count": 11,
      "outputs": [
        {
          "output_type": "stream",
          "name": "stdout",
          "text": [
            "{'name': 'Shreya'}\n",
            "Shreya\n"
          ]
        }
      ]
    },
    {
      "cell_type": "markdown",
      "source": [
        "Question no. 5  Why might you use a set instead of a list in Python"
      ],
      "metadata": {
        "id": "p2yYG0MTFu0E"
      }
    },
    {
      "cell_type": "markdown",
      "source": [
        "Answer: Sets automatically enforce uniqueness. If you need to store only unique elements and want to avoid duplicates, a set is the perfect choice.\n",
        "\n",
        "Lists, on the other hand, allow duplicate elements."
      ],
      "metadata": {
        "id": "rHUktIwPF3Hs"
      }
    },
    {
      "cell_type": "code",
      "source": [
        "# Here are some example for set and lists\n",
        "set ={5,10,10,10,5,\"Shreya\", \"Shreya\"}\n",
        "print(set)"
      ],
      "metadata": {
        "colab": {
          "base_uri": "https://localhost:8080/"
        },
        "id": "BMjWLnKPGEAA",
        "outputId": "9ce1d2ce-7166-48a0-fb2d-1f77c14bb833"
      },
      "execution_count": 12,
      "outputs": [
        {
          "output_type": "stream",
          "name": "stdout",
          "text": [
            "{10, 5, 'Shreya'}\n"
          ]
        }
      ]
    },
    {
      "cell_type": "code",
      "source": [
        "list= [5,10,10,10,5,\"Shreya\", \"Shreya\"]\n",
        "print(list)"
      ],
      "metadata": {
        "colab": {
          "base_uri": "https://localhost:8080/"
        },
        "id": "UlmHyKbSGZic",
        "outputId": "f0549df6-3dc7-4fae-b87b-43e4ae44cb85"
      },
      "execution_count": 13,
      "outputs": [
        {
          "output_type": "stream",
          "name": "stdout",
          "text": [
            "[5, 10, 10, 10, 5, 'Shreya', 'Shreya']\n"
          ]
        }
      ]
    },
    {
      "cell_type": "markdown",
      "source": [
        "Question no. 6 P What is a string in Python, and how is it different from a list"
      ],
      "metadata": {
        "id": "QKmpp6rRGk2o"
      }
    },
    {
      "cell_type": "markdown",
      "source": [
        "Answer: In Python, a string is a sequence of characters. Strings are used to store and manipulate text data. A string can contain letters, digits, symbols, and even spaces. Strings are enclosed in either single quotes ('), double quotes (\"), or triple quotes (''' or \"\"\") for multi-line strings.\n",
        "strings are immutable.\n",
        "\n",
        "On the other hand list are the collection of elements (can be of any data type).\n",
        "and it is mutable."
      ],
      "metadata": {
        "id": "CpgsAfHsGtOG"
      }
    },
    {
      "cell_type": "markdown",
      "source": [
        "Question no. 7 How do tuples ensure data integrity in Python."
      ],
      "metadata": {
        "id": "jU_9JfaVHUO1"
      }
    },
    {
      "cell_type": "markdown",
      "source": [
        "Answer:Tuples ensure data integrity in Python primarily due to their immutable nature. Once a tuple is created, its elements cannot be modified (added, removed, or changed), which provides several benefits for preserving the integrity of data.It ensure Consistency with Fixed Structure Data"
      ],
      "metadata": {
        "id": "rrK-UQvuHmRA"
      }
    },
    {
      "cell_type": "markdown",
      "source": [
        "Question no. 8 What is a hash table, and how does it relate to dictionaries in Python"
      ],
      "metadata": {
        "id": "PGUjXatgHyRd"
      }
    },
    {
      "cell_type": "markdown",
      "source": [
        "Answer: A hash table (also known as a hash map) is a data structure that stores key-value pairs. It allows for fast retrieval of values based on their associated keys by using a hashing function. The hashing function takes a key and converts it into a numerical value called a hash code or hash value. This hash value is used to determine the index (or bucket) in the table where the value will be stored.\n",
        "\n",
        "In simple terms, a hash table:\n",
        "\n",
        "- Maps keys to values.\n",
        "- Uses a hash function to compute an index where the key-value pair is stored.\n",
        "- Allows for fast lookups, insertions, and deletions, typically with a time complexity of O(1) on average.\n",
        "\n",
        "### Key Characteristics of Dictionaries\n",
        "- Key-Value Pair Storage\n",
        "- Hash Function\n",
        "- Immutability of Keys\n",
        "- Efficiency"
      ],
      "metadata": {
        "id": "b9LuSzL_H3hv"
      }
    },
    {
      "cell_type": "markdown",
      "source": [
        "Question no. 9 Can lists contain different data types in Python"
      ],
      "metadata": {
        "id": "amVcBgECIq9c"
      }
    },
    {
      "cell_type": "markdown",
      "source": [
        "Answer:\n",
        "Yes, List is the collection of element.it can store any data type.\n"
      ],
      "metadata": {
        "id": "paTVTLhyIyO8"
      }
    },
    {
      "cell_type": "code",
      "source": [
        "# Example:\n",
        "list= [5,10,10,10,5,\"Shreya\", \"Shreya\"]\n",
        "print(list)"
      ],
      "metadata": {
        "colab": {
          "base_uri": "https://localhost:8080/"
        },
        "id": "6iHn-aYxJade",
        "outputId": "d8d5a8f6-8843-45f3-f327-54b8c80ef1c3"
      },
      "execution_count": 14,
      "outputs": [
        {
          "output_type": "stream",
          "name": "stdout",
          "text": [
            "[5, 10, 10, 10, 5, 'Shreya', 'Shreya']\n"
          ]
        }
      ]
    },
    {
      "cell_type": "markdown",
      "source": [
        "Question no. 10  Explain why strings are immutable in Python."
      ],
      "metadata": {
        "id": "eoejatcfJk5Z"
      }
    },
    {
      "cell_type": "markdown",
      "source": [
        "Answer: Strings in Python are immutable, meaning once a string object is created, it cannot be changed. There are several reasons for this design choice, including efficiency, security, and simplicity."
      ],
      "metadata": {
        "id": "bsrWI0ysJr1X"
      }
    },
    {
      "cell_type": "markdown",
      "source": [
        "Question no. 11 What advantages do dictionaries offer over lists for certain tasks"
      ],
      "metadata": {
        "id": "KR9ZUY-2J4p8"
      }
    },
    {
      "cell_type": "markdown",
      "source": [
        "Answer:\n",
        "Dictionaries in Python offer several advantages over lists for certain tasks due to their underlying structure and capabilities. Here’s a breakdown of why you might choose a dictionary over a list:\n",
        "- Fast Lookups by Key\n",
        "- Key-Value Pairs\n",
        "- No Need for Sequential Indexing\n",
        "- Handling Unordered Data\n",
        "- Uniqueness of Keys\n",
        "- Better Representation of Complex Relationships"
      ],
      "metadata": {
        "id": "23erx9mAM-Yx"
      }
    },
    {
      "cell_type": "markdown",
      "source": [
        "Question no. 12 Describe a scenario where using a tuple would be preferable over a list"
      ],
      "metadata": {
        "id": "3n4Uzt-VNo9W"
      }
    },
    {
      "cell_type": "markdown",
      "source": [
        "Answer: A tuple would be preferable over a list in scenarios where immutability and data integrity are important, meaning you want to ensure the data cannot be changed after its creation. Here’s an example scenario:\n",
        "### Scenario: Storing Fixed GPS Coordinates\n",
        "gps_coordinates = (40.7128, -74.0060)"
      ],
      "metadata": {
        "id": "Y4aGwKbSNwAl"
      }
    },
    {
      "cell_type": "code",
      "source": [
        "gps_coordinates = (40.7128, -74.0060) # # Latitude and Longitude of New York City"
      ],
      "metadata": {
        "id": "gnd7TIphOMGJ"
      },
      "execution_count": null,
      "outputs": []
    },
    {
      "cell_type": "markdown",
      "source": [
        "### For Aadhar card PAN card, Employee ID in these case we can not change the the value after creation so we use tuple."
      ],
      "metadata": {
        "id": "HT-nKIFrOcgC"
      }
    },
    {
      "cell_type": "markdown",
      "source": [
        "Question no. 13 How do sets handle duplicate values in Python?."
      ],
      "metadata": {
        "id": "iSkD9hRJOwxm"
      }
    },
    {
      "cell_type": "markdown",
      "source": [
        "Answer: In Python, sets automatically handle duplicate values by ensuring that each element in the set is unique. When you add items to a set, Python eliminates any duplicates for you, and only one instance of each unique element is stored."
      ],
      "metadata": {
        "id": "VYwloTCWPETc"
      }
    },
    {
      "cell_type": "markdown",
      "source": [
        "Question no. 14 How does the “in” keyword work differently for lists and dictionaries."
      ],
      "metadata": {
        "id": "byKbWJc8PJpE"
      }
    },
    {
      "cell_type": "markdown",
      "source": [
        "Answer: The in keyword is used in Python to check for the existence of an element within a collection. It works differently for lists and dictionaries based on how each data structure stores its elements.\n",
        "- When used with a list, the in keyword checks if a specific value exists in the list.\n",
        "- When used with a dictionary, the in keyword checks for the presence of a key (not a value)."
      ],
      "metadata": {
        "id": "1Iwvy6r-PQPc"
      }
    },
    {
      "cell_type": "markdown",
      "source": [
        "Question no. 15 Can you modify the elements of a tuple? Explain why or why not."
      ],
      "metadata": {
        "id": "K0hCmQTOPpfm"
      }
    },
    {
      "cell_type": "markdown",
      "source": [
        "Answer: No, you cannot modify the elements of a tuple in Python because tuples are immutable. This immutability means that once a tuple is created, its contents (the individual elements) cannot be changed, added to, or removed."
      ],
      "metadata": {
        "id": "Z_x6_bM1PxaC"
      }
    },
    {
      "cell_type": "markdown",
      "source": [
        "Question no. 16 What is a nested dictionary, and give an example of its use case."
      ],
      "metadata": {
        "id": "FtwaV_diQPEi"
      }
    },
    {
      "cell_type": "markdown",
      "source": [
        "Answer: A nested dictionary in Python is a dictionary where the values themselves can be dictionaries. This allows for the creation of a hierarchical or nested structure, which is useful for organizing data with multiple layers of keys and values.\n",
        "\n",
        "Example:\n",
        "A common use case for nested dictionaries is to represent structured or hierarchical data, such as a database of employees in an organization, where each employee has multiple attributes like their name, age, and job title, organized under different departments."
      ],
      "metadata": {
        "id": "8Zx2KTPkQ5gu"
      }
    },
    {
      "cell_type": "code",
      "source": [
        "company = {\n",
        "    \"Sales\": {\n",
        "        \"John Doe\": {\"age\": 30, \"position\": \"Sales Manager\", \"salary\": 75000},\n",
        "        \"Jane Smith\": {\"age\": 25, \"position\": \"Sales Executive\", \"salary\": 50000},\n",
        "    },\n",
        "    \"Engineering\": {\n",
        "        \"Alice Johnson\": {\"age\": 35, \"position\": \"Senior Engineer\", \"salary\": 90000},\n",
        "        \"Bob Brown\": {\"age\": 28, \"position\": \"Junior Engineer\", \"salary\": 60000},\n",
        "    },\n",
        "}\n",
        "\n",
        "# Accessing data from the nested dictionary\n",
        "print(company[\"Sales\"][\"John Doe\"][\"position\"])  # Output: Sales Manager\n",
        "print(company[\"Engineering\"][\"Alice Johnson\"][\"salary\"])  # Output: 90000"
      ],
      "metadata": {
        "colab": {
          "base_uri": "https://localhost:8080/"
        },
        "id": "xAC5VOu3RBRw",
        "outputId": "8a16ad31-6561-4cb3-c13d-2649e3092623"
      },
      "execution_count": 16,
      "outputs": [
        {
          "output_type": "stream",
          "name": "stdout",
          "text": [
            "Sales Manager\n",
            "90000\n"
          ]
        }
      ]
    },
    {
      "cell_type": "markdown",
      "source": [
        "Question no. 17  Describe the time complexity of accessing elements in a dictionary."
      ],
      "metadata": {
        "id": "N09hZusJRLEz"
      }
    },
    {
      "cell_type": "markdown",
      "source": [
        "Answer: The time complexity of accessing elements in a dictionary in Python depends on the operation being performed, but for basic key-based access, it is typically O(1), or constant time.\n",
        "### Average Case:\n",
        "- In the average case, accessing an element in a dictionary (using a key) takes constant time, O(1).\n",
        "- This is because Python dictionaries are implemented using a hash table. When you try to access an element using its key, Python computes the hash of the key and uses that to locate the value directly in the underlying hash table, making the access very fast, regardless of the size of the dictionary.\n",
        "### Worst Case\n",
        "- In the worst case, accessing an element in a dictionary can take O(n), where n is the number of elements in the dictionary.\n",
        "- This happens in rare cases due to hash collisions, where multiple keys hash to the same location in the hash table. In such cases, Python resolves the collision by chaining or probing, which may require searching through a list of items, making the access slower.\n",
        "- However, Python uses an efficient hashing algorithm, and hash collisions are rare in practice, so the worst case does not happen often."
      ],
      "metadata": {
        "id": "PXoq6i6sRS_F"
      }
    },
    {
      "cell_type": "markdown",
      "source": [
        "Question no. 18 In what situations are lists preferred over dictionaries?"
      ],
      "metadata": {
        "id": "nzBYU-IpYxSz"
      }
    },
    {
      "cell_type": "markdown",
      "source": [
        "Answer:\n",
        "Lists are preferred over dictionaries in Python in certain situations where their characteristics—ordered, index-based, and allowing duplicates—make them more suitable."
      ],
      "metadata": {
        "id": "AF2NQg31Y5E5"
      }
    },
    {
      "cell_type": "markdown",
      "source": [
        "Question no. 19 Why are dictionaries considered unordered, and how does that affect data retrieval?"
      ],
      "metadata": {
        "id": "WP4PEpSjZXrQ"
      }
    },
    {
      "cell_type": "markdown",
      "source": [
        "Answer: Dictionaries in Python were traditionally considered unordered because their underlying implementation (a hash table) does not store data in a specific, predictable order. The keys and values in a dictionary were stored based on the hash values of the keys, which could vary and depend on internal factors.\n",
        "### Impact on Data Retrieval\n",
        "- Unpredictable Iteration\n",
        "- Order-Insensitive Operations\n",
        "- Insertion Order Matters in Python 3.7+"
      ],
      "metadata": {
        "id": "i8WJbHykZdOi"
      }
    },
    {
      "cell_type": "markdown",
      "source": [
        "Question no. 20 Explain the difference between a list and a dictionary in terms of data retrieval."
      ],
      "metadata": {
        "id": "t4B_4ddSZ3g4"
      }
    },
    {
      "cell_type": "markdown",
      "source": [
        "Answer: The main differences between lists and dictionaries in terms of data retrieval are based on how they store and access data, their internal structures, and the way they are indexed. Let's break down the differences:\n",
        "## 1. Accessing Data: Index vs. Key\n",
        "### List:\n",
        "\n",
        "- Index-based retrieval.\n",
        "- Elements in a list are accessed by their position (index), which is an integer representing the position of the element.\n",
        "- List indices are zero-based, meaning the first element has an index of 0.\n",
        "### Dictionary:\n",
        "\n",
        "- Key-based retrieval.\n",
        "- In a dictionary, data is stored as key-value pairs, and elements are accessed using a key, not a numeric index.\n",
        "- The key can be any immutable data type (like a string, number, or tuple), and each key must be unique."
      ],
      "metadata": {
        "id": "BF09nHn-Z-JN"
      }
    },
    {
      "cell_type": "markdown",
      "source": [
        "# Practical Question :"
      ],
      "metadata": {
        "id": "5NByj8W7a8p9"
      }
    },
    {
      "cell_type": "markdown",
      "source": [
        "Question no. 1 Write a code to create a string with your name and print it?"
      ],
      "metadata": {
        "id": "djdCb41sbBK4"
      }
    },
    {
      "cell_type": "code",
      "source": [
        "user_input = input(\"Enter tha name : \")\n",
        "print(user_input)"
      ],
      "metadata": {
        "colab": {
          "base_uri": "https://localhost:8080/"
        },
        "id": "Dctf4A91bTiB",
        "outputId": "d793ff21-f4d7-439e-bfcb-49b53938c9c7"
      },
      "execution_count": 18,
      "outputs": [
        {
          "output_type": "stream",
          "name": "stdout",
          "text": [
            "Enter tha name : Shreya\n",
            "Shreya\n"
          ]
        }
      ]
    },
    {
      "cell_type": "markdown",
      "source": [
        "Question no. 2 Write a code to find the length of the string \"Hello World\"."
      ],
      "metadata": {
        "id": "7biStEXrbvZ4"
      }
    },
    {
      "cell_type": "code",
      "source": [
        "string = \"Hello World\"\n",
        "len(string)"
      ],
      "metadata": {
        "colab": {
          "base_uri": "https://localhost:8080/"
        },
        "id": "cDmYYPSwb8IP",
        "outputId": "17e43c24-6065-4e3e-927b-0cc702794458"
      },
      "execution_count": 20,
      "outputs": [
        {
          "output_type": "execute_result",
          "data": {
            "text/plain": [
              "11"
            ]
          },
          "metadata": {},
          "execution_count": 20
        }
      ]
    },
    {
      "cell_type": "markdown",
      "source": [
        "Question no. 3 Write a code to slice the first 3 characters from the string \"Python Programming\"?\n"
      ],
      "metadata": {
        "id": "A4oKelOdczhl"
      }
    },
    {
      "cell_type": "code",
      "source": [
        "s = \"Python Programming\"\n",
        "s[0:3]"
      ],
      "metadata": {
        "colab": {
          "base_uri": "https://localhost:8080/",
          "height": 35
        },
        "id": "BloDxQAgc8vG",
        "outputId": "56ef6aa4-5706-4f2e-bd56-74b3938ea137"
      },
      "execution_count": 22,
      "outputs": [
        {
          "output_type": "execute_result",
          "data": {
            "text/plain": [
              "'Pyt'"
            ],
            "application/vnd.google.colaboratory.intrinsic+json": {
              "type": "string"
            }
          },
          "metadata": {},
          "execution_count": 22
        }
      ]
    },
    {
      "cell_type": "markdown",
      "source": [
        "Question no. 4 Write a code to convert the string \"hello\" to uppercase?"
      ],
      "metadata": {
        "id": "7IRkbInIdNCE"
      }
    },
    {
      "cell_type": "code",
      "source": [
        "s = \"hello\"\n",
        "s.upper()"
      ],
      "metadata": {
        "colab": {
          "base_uri": "https://localhost:8080/",
          "height": 35
        },
        "id": "fBzHUhBFdTh3",
        "outputId": "80244209-94d8-49c2-802b-07d81d482f12"
      },
      "execution_count": 23,
      "outputs": [
        {
          "output_type": "execute_result",
          "data": {
            "text/plain": [
              "'HELLO'"
            ],
            "application/vnd.google.colaboratory.intrinsic+json": {
              "type": "string"
            }
          },
          "metadata": {},
          "execution_count": 23
        }
      ]
    },
    {
      "cell_type": "markdown",
      "source": [
        "Question no. 5 Write a code to replace the word \"apple\" with \"orange\" in the string \"I like apple\"."
      ],
      "metadata": {
        "id": "xiPlo8-2daLb"
      }
    },
    {
      "cell_type": "code",
      "source": [
        "s = \"I like apple\"\n",
        "s.replace(\"apple\",\"orange\")"
      ],
      "metadata": {
        "colab": {
          "base_uri": "https://localhost:8080/",
          "height": 35
        },
        "id": "G-XdCAwwdhIC",
        "outputId": "29192879-9057-4698-bb67-bcb209d8996e"
      },
      "execution_count": 24,
      "outputs": [
        {
          "output_type": "execute_result",
          "data": {
            "text/plain": [
              "'I like orange'"
            ],
            "application/vnd.google.colaboratory.intrinsic+json": {
              "type": "string"
            }
          },
          "metadata": {},
          "execution_count": 24
        }
      ]
    },
    {
      "cell_type": "markdown",
      "source": [
        "Question no. 6 Write a code to create a list with numbers 1 to 5 and print it."
      ],
      "metadata": {
        "id": "LDoKa6apd9yg"
      }
    },
    {
      "cell_type": "code",
      "source": [
        "my_list = [1, 2, 3, 4, 5]\n",
        "print(my_list)"
      ],
      "metadata": {
        "colab": {
          "base_uri": "https://localhost:8080/"
        },
        "id": "-EuaaFiQiub7",
        "outputId": "a5783b4f-de29-4361-fd51-cc1ac0314818"
      },
      "execution_count": 26,
      "outputs": [
        {
          "output_type": "stream",
          "name": "stdout",
          "text": [
            "[1, 2, 3, 4, 5]\n"
          ]
        }
      ]
    },
    {
      "cell_type": "markdown",
      "source": [
        "Question no. 7 Write a code to append the number 10 to the list [1, 2, 3, 4]."
      ],
      "metadata": {
        "id": "ElNU9crTjaCJ"
      }
    },
    {
      "cell_type": "code",
      "source": [
        "l = [1,2,3,4]\n",
        "l.append(10)\n",
        "print(l)"
      ],
      "metadata": {
        "colab": {
          "base_uri": "https://localhost:8080/"
        },
        "id": "kdXrCIqGjjNS",
        "outputId": "05780e5c-5f2e-45fa-ae9c-240689a52cc9"
      },
      "execution_count": 30,
      "outputs": [
        {
          "output_type": "stream",
          "name": "stdout",
          "text": [
            "[1, 2, 3, 4, 10]\n"
          ]
        }
      ]
    },
    {
      "cell_type": "markdown",
      "source": [
        "Question no. 8 Write a code to remove the number 3 from the list [1, 2, 3, 4, 5]."
      ],
      "metadata": {
        "id": "QFi91YJFkORh"
      }
    },
    {
      "cell_type": "code",
      "source": [
        "list = [1,2,3,4,5]\n",
        "list.remove(3)\n",
        "print(list)"
      ],
      "metadata": {
        "colab": {
          "base_uri": "https://localhost:8080/"
        },
        "id": "EkpbBPhLkWRy",
        "outputId": "48a1fc4c-0144-4390-cd93-9b62af4275b5"
      },
      "execution_count": 31,
      "outputs": [
        {
          "output_type": "stream",
          "name": "stdout",
          "text": [
            "[1, 2, 4, 5]\n"
          ]
        }
      ]
    },
    {
      "cell_type": "markdown",
      "source": [
        "Question no 9  Write a code to access the second element in the list ['a', 'b', 'c', 'd']."
      ],
      "metadata": {
        "id": "RKGRfN-Rkk5V"
      }
    },
    {
      "cell_type": "code",
      "source": [
        "l = ['a','b','c','d']\n",
        "l[1]\n"
      ],
      "metadata": {
        "colab": {
          "base_uri": "https://localhost:8080/",
          "height": 35
        },
        "id": "fiwKdaPZkr2F",
        "outputId": "1491bdfd-89c9-4ca8-b3ee-860c459775cf"
      },
      "execution_count": 32,
      "outputs": [
        {
          "output_type": "execute_result",
          "data": {
            "text/plain": [
              "'b'"
            ],
            "application/vnd.google.colaboratory.intrinsic+json": {
              "type": "string"
            }
          },
          "metadata": {},
          "execution_count": 32
        }
      ]
    },
    {
      "cell_type": "markdown",
      "source": [
        "Question no. 10  Write a code to reverse the list [10, 20, 30, 40, 50]."
      ],
      "metadata": {
        "id": "K43AYjLTlEjk"
      }
    },
    {
      "cell_type": "code",
      "source": [
        "l = [10,20,30,40,50]\n",
        "l.reverse()\n",
        "print(l)\n"
      ],
      "metadata": {
        "colab": {
          "base_uri": "https://localhost:8080/"
        },
        "id": "nnm6IckfmHK6",
        "outputId": "10aff287-b6ee-4edc-b90a-e4b79bc4478a"
      },
      "execution_count": 34,
      "outputs": [
        {
          "output_type": "stream",
          "name": "stdout",
          "text": [
            "[50, 40, 30, 20, 10]\n"
          ]
        }
      ]
    },
    {
      "cell_type": "markdown",
      "source": [
        "Question no. 11 Write a code to create a tuple with the elements 100, 200, 300 and print it."
      ],
      "metadata": {
        "id": "Wx3LwXtWmeTO"
      }
    },
    {
      "cell_type": "code",
      "source": [
        "t = (100, 200, 300)\n",
        "print(t)"
      ],
      "metadata": {
        "colab": {
          "base_uri": "https://localhost:8080/"
        },
        "id": "qGh8FfnZnPhD",
        "outputId": "d0aad1b3-ae81-4e94-8a4b-9c70c2238bff"
      },
      "execution_count": 35,
      "outputs": [
        {
          "output_type": "stream",
          "name": "stdout",
          "text": [
            "(100, 200, 300)\n"
          ]
        }
      ]
    },
    {
      "cell_type": "markdown",
      "source": [
        "Questiion no. 12 Write a code to access the second-to-last element of the tuple ('red', 'green', 'blue', 'yellow')."
      ],
      "metadata": {
        "id": "OelRpvabnZ-o"
      }
    },
    {
      "cell_type": "code",
      "source": [
        "tuple = (\"red\", \"green\",\"blue\", \"yellow\")\n",
        "tuple[1]"
      ],
      "metadata": {
        "colab": {
          "base_uri": "https://localhost:8080/",
          "height": 35
        },
        "id": "yO77WmYRnkNi",
        "outputId": "2f4bf2a0-41e0-45bb-a53e-dcab50cd083c"
      },
      "execution_count": 36,
      "outputs": [
        {
          "output_type": "execute_result",
          "data": {
            "text/plain": [
              "'green'"
            ],
            "application/vnd.google.colaboratory.intrinsic+json": {
              "type": "string"
            }
          },
          "metadata": {},
          "execution_count": 36
        }
      ]
    },
    {
      "cell_type": "markdown",
      "source": [
        "Question no. 13 Write a code to find the minimum number in the tuple (10, 20, 5, 15)."
      ],
      "metadata": {
        "id": "fnksV6HRoLdy"
      }
    },
    {
      "cell_type": "code",
      "source": [
        "tuple = (10,20,5,15)\n",
        "min(tuple)"
      ],
      "metadata": {
        "colab": {
          "base_uri": "https://localhost:8080/"
        },
        "id": "oBzC4Vg-oSjv",
        "outputId": "34fa08e6-d9c8-4d55-d7d1-d189b1a95d04"
      },
      "execution_count": 40,
      "outputs": [
        {
          "output_type": "execute_result",
          "data": {
            "text/plain": [
              "5"
            ]
          },
          "metadata": {},
          "execution_count": 40
        }
      ]
    },
    {
      "cell_type": "markdown",
      "source": [
        "Question no. 14  Write a code to find the index of the element \"cat\" in the tuple ('dog', 'cat', 'rabbit')."
      ],
      "metadata": {
        "id": "DFUoWVWHpW-B"
      }
    },
    {
      "cell_type": "code",
      "source": [
        "t = ('dog', 'cat', 'rabbit')\n",
        "t[1]"
      ],
      "metadata": {
        "colab": {
          "base_uri": "https://localhost:8080/",
          "height": 35
        },
        "id": "SzHIVspSpbkz",
        "outputId": "d107bb8d-ed0a-454d-f16f-b543c26f2259"
      },
      "execution_count": 42,
      "outputs": [
        {
          "output_type": "execute_result",
          "data": {
            "text/plain": [
              "'cat'"
            ],
            "application/vnd.google.colaboratory.intrinsic+json": {
              "type": "string"
            }
          },
          "metadata": {},
          "execution_count": 42
        }
      ]
    },
    {
      "cell_type": "markdown",
      "source": [
        "Question no. 15  Write a code to create a tuple containing three different fruits and check if \"kiwi\" is in it."
      ],
      "metadata": {
        "id": "rGO2k8xQptC2"
      }
    },
    {
      "cell_type": "code",
      "source": [
        "l = ['Orange', 'Apple', 'kiwi']\n",
        "'kiwi' in l"
      ],
      "metadata": {
        "colab": {
          "base_uri": "https://localhost:8080/"
        },
        "id": "vosFR3lip0Cm",
        "outputId": "d8c7f877-0bc1-4784-97e2-109e9b336b15"
      },
      "execution_count": 43,
      "outputs": [
        {
          "output_type": "execute_result",
          "data": {
            "text/plain": [
              "True"
            ]
          },
          "metadata": {},
          "execution_count": 43
        }
      ]
    },
    {
      "cell_type": "markdown",
      "source": [
        "Question no 16 Write a code to create a set with the elements 'a', 'b', 'c' and print it."
      ],
      "metadata": {
        "id": "OCNxr0M-qItT"
      }
    },
    {
      "cell_type": "code",
      "source": [
        "set = {'a', 'b', 'c'}\n",
        "print(set)"
      ],
      "metadata": {
        "colab": {
          "base_uri": "https://localhost:8080/"
        },
        "id": "yqiekTgSqXES",
        "outputId": "f157c274-de64-4743-deac-55cb2a4704c0"
      },
      "execution_count": 44,
      "outputs": [
        {
          "output_type": "stream",
          "name": "stdout",
          "text": [
            "{'b', 'a', 'c'}\n"
          ]
        }
      ]
    },
    {
      "cell_type": "markdown",
      "source": [
        "Question no. 17 Write a code to clear all elements from the set {1, 2, 3, 4, 5}."
      ],
      "metadata": {
        "id": "Jo87ceqLqjT-"
      }
    },
    {
      "cell_type": "code",
      "source": [
        "set = {1,2,3,4,5}\n",
        "set.clear()\n",
        "print(set)"
      ],
      "metadata": {
        "colab": {
          "base_uri": "https://localhost:8080/"
        },
        "id": "MYwzHoyWqsrw",
        "outputId": "45bbf9c3-5670-4b92-e723-c3ac08f8f3ef"
      },
      "execution_count": 47,
      "outputs": [
        {
          "output_type": "stream",
          "name": "stdout",
          "text": [
            "set()\n"
          ]
        }
      ]
    },
    {
      "cell_type": "markdown",
      "source": [
        "Question no. 18  Write a code to remove the element 4 from the set {1, 2, 3, 4}."
      ],
      "metadata": {
        "id": "0EADBDr-rTDV"
      }
    },
    {
      "cell_type": "code",
      "source": [
        "set = {1,2,3,4}\n",
        "set.remove(4)\n",
        "print(set)"
      ],
      "metadata": {
        "colab": {
          "base_uri": "https://localhost:8080/"
        },
        "id": "rzg734OjrXb6",
        "outputId": "626cef76-6d17-4716-a212-4ffd926de7b3"
      },
      "execution_count": 51,
      "outputs": [
        {
          "output_type": "stream",
          "name": "stdout",
          "text": [
            "{1, 2, 3}\n"
          ]
        }
      ]
    },
    {
      "cell_type": "markdown",
      "source": [
        "Question no. 19  Write a code to find the union of two sets {1, 2, 3} and {3, 4, 5}."
      ],
      "metadata": {
        "id": "B_9gL_Ehr1Wg"
      }
    },
    {
      "cell_type": "code",
      "source": [
        "s1 = {1,2,3}\n",
        "s2 = {3,4,5}\n",
        "print(s1|s2)"
      ],
      "metadata": {
        "colab": {
          "base_uri": "https://localhost:8080/"
        },
        "id": "bDv6PwWlr7dw",
        "outputId": "2a094f3b-5af1-4006-a8c1-b216a3f7d177"
      },
      "execution_count": 53,
      "outputs": [
        {
          "output_type": "stream",
          "name": "stdout",
          "text": [
            "{1, 2, 3, 4, 5}\n"
          ]
        }
      ]
    },
    {
      "cell_type": "markdown",
      "source": [
        "Question no. 20 Write a code to find the intersection of two sets {1, 2, 3} and {2, 3, 4}."
      ],
      "metadata": {
        "id": "k1HPlSiLsQ2Y"
      }
    },
    {
      "cell_type": "code",
      "source": [
        "s1 = {1,2,3}\n",
        "s2 = {2,3,4}\n",
        "print(s1&s2)"
      ],
      "metadata": {
        "colab": {
          "base_uri": "https://localhost:8080/"
        },
        "id": "0drg0DdbsAgz",
        "outputId": "cf4b3872-ac71-45dd-df4c-5f4b6617d37c"
      },
      "execution_count": 54,
      "outputs": [
        {
          "output_type": "stream",
          "name": "stdout",
          "text": [
            "{2, 3}\n"
          ]
        }
      ]
    },
    {
      "cell_type": "markdown",
      "source": [
        "Question no. 21 Write a code to create a dictionary with the keys \"name\", \"age\", and \"city\", and print it."
      ],
      "metadata": {
        "id": "iFxLeZ0msmtg"
      }
    },
    {
      "cell_type": "code",
      "source": [
        "dict = {\"name\":\"Shreya\", \"age\":\"23\", \"city\":\"jaunpur\"}\n",
        "print(dict)"
      ],
      "metadata": {
        "colab": {
          "base_uri": "https://localhost:8080/"
        },
        "id": "MxaoKLO-sl5J",
        "outputId": "c9d5794d-960e-4b45-d78e-1efa865d0d31"
      },
      "execution_count": 60,
      "outputs": [
        {
          "output_type": "stream",
          "name": "stdout",
          "text": [
            "{'name': 'Shreya', 'age': '23', 'city': 'jaunpur'}\n"
          ]
        }
      ]
    },
    {
      "cell_type": "markdown",
      "source": [
        "Question no. 22 Write a code to add a new key-value pair \"country\": \"USA\" to the dictionary {'name': 'John', 'age': 25}."
      ],
      "metadata": {
        "id": "HgmEb6Uht9pK"
      }
    },
    {
      "cell_type": "code",
      "source": [
        "my_dict = {'name': 'John', 'age': 25}\n",
        "my_dict['country'] = 'USA'\n",
        "print(my_dict)"
      ],
      "metadata": {
        "colab": {
          "base_uri": "https://localhost:8080/"
        },
        "id": "7XZHsrfjuOTW",
        "outputId": "c5135ec2-9aac-42de-8d39-df0659314baf"
      },
      "execution_count": 68,
      "outputs": [
        {
          "output_type": "stream",
          "name": "stdout",
          "text": [
            "{'name': 'John', 'age': 25, 'country': 'USA'}\n"
          ]
        }
      ]
    },
    {
      "cell_type": "markdown",
      "source": [
        "Question no. 23 Write a code to access the value associated with the key \"name\" in the dictionary {'name': 'Alice', 'age': 30}."
      ],
      "metadata": {
        "id": "RK8yBoEDwCnV"
      }
    },
    {
      "cell_type": "code",
      "source": [
        "dict = {'name':'Alice', 'age':'30'}\n",
        "dict['name']"
      ],
      "metadata": {
        "colab": {
          "base_uri": "https://localhost:8080/",
          "height": 35
        },
        "id": "Bk8LEMr9wHQk",
        "outputId": "c825562f-3d44-46e6-dec4-cf301c3d6962"
      },
      "execution_count": 70,
      "outputs": [
        {
          "output_type": "execute_result",
          "data": {
            "text/plain": [
              "'Alice'"
            ],
            "application/vnd.google.colaboratory.intrinsic+json": {
              "type": "string"
            }
          },
          "metadata": {},
          "execution_count": 70
        }
      ]
    },
    {
      "cell_type": "markdown",
      "source": [
        "Question no. 24  Write a code to remove the key \"age\" from the dictionary {'name': 'Bob', 'age': 22, 'city': 'New York'}."
      ],
      "metadata": {
        "id": "L2WaHPIpwiT2"
      }
    },
    {
      "cell_type": "code",
      "source": [
        "set = {'name': 'Bob', 'age': 22, 'city': 'New York'}\n",
        "set['age']"
      ],
      "metadata": {
        "colab": {
          "base_uri": "https://localhost:8080/"
        },
        "id": "n4cxH2KnwpZh",
        "outputId": "06216c85-4f5b-4e97-aaab-cfa66c9fd7ee"
      },
      "execution_count": 71,
      "outputs": [
        {
          "output_type": "execute_result",
          "data": {
            "text/plain": [
              "22"
            ]
          },
          "metadata": {},
          "execution_count": 71
        }
      ]
    },
    {
      "cell_type": "markdown",
      "source": [
        "Question no. 25 Write a code to check if the key \"city\" exists in the dictionary {'name': 'Alice', 'city': 'Paris'}."
      ],
      "metadata": {
        "id": "ge2c8V88wzyj"
      }
    },
    {
      "cell_type": "code",
      "source": [
        "set = {'name': 'Alice', 'city': 'Paris'}\n",
        "set['city']"
      ],
      "metadata": {
        "colab": {
          "base_uri": "https://localhost:8080/",
          "height": 35
        },
        "id": "PhjtKcuxw7VU",
        "outputId": "f00788a2-7f6e-4ec0-9e7f-657b112deecd"
      },
      "execution_count": 72,
      "outputs": [
        {
          "output_type": "execute_result",
          "data": {
            "text/plain": [
              "'Paris'"
            ],
            "application/vnd.google.colaboratory.intrinsic+json": {
              "type": "string"
            }
          },
          "metadata": {},
          "execution_count": 72
        }
      ]
    },
    {
      "cell_type": "markdown",
      "source": [
        "Question no. 26 Write a code to create a list, a tuple, and a dictionary, and print them all."
      ],
      "metadata": {
        "id": "eoCb2058xJHh"
      }
    },
    {
      "cell_type": "code",
      "source": [
        "l = [2,3,4,5]\n",
        "print(l)\n",
        "dict = {'name':'Shreya'}\n",
        "print(dict)\n",
        "tuple = (2,3,4,5)\n",
        "print(tuple)"
      ],
      "metadata": {
        "colab": {
          "base_uri": "https://localhost:8080/"
        },
        "id": "v3tLikuIxRbP",
        "outputId": "13d3f83d-1c2b-4dd5-b5d3-3504c8ff992a"
      },
      "execution_count": 73,
      "outputs": [
        {
          "output_type": "stream",
          "name": "stdout",
          "text": [
            "[2, 3, 4, 5]\n",
            "{'name': 'Shreya'}\n",
            "(2, 3, 4, 5)\n"
          ]
        }
      ]
    },
    {
      "cell_type": "markdown",
      "source": [
        "Question no. 27 Write a code to create a list of 5 random numbers between 1 and 100, sort it in ascending order, and print the\n",
        "result.(replaced)"
      ],
      "metadata": {
        "id": "2Wy1CDAdxye8"
      }
    },
    {
      "cell_type": "code",
      "source": [
        "l = [85,56,74,15,63]\n",
        "l.sort()\n",
        "print(l)"
      ],
      "metadata": {
        "colab": {
          "base_uri": "https://localhost:8080/"
        },
        "id": "Dyio8asAyjaP",
        "outputId": "7ae772fe-cb2e-4ffd-f68d-32aee7c1a4fe"
      },
      "execution_count": 75,
      "outputs": [
        {
          "output_type": "stream",
          "name": "stdout",
          "text": [
            "[15, 56, 63, 74, 85]\n"
          ]
        }
      ]
    },
    {
      "cell_type": "markdown",
      "source": [
        "Question no. 28 Write a code to create a list with strings and print the element at the third index.\n",
        "\n",
        "```\n",
        "# This is formatted as code\n",
        "```\n",
        "\n"
      ],
      "metadata": {
        "id": "3nUyHv9E5wHN"
      }
    },
    {
      "cell_type": "code",
      "source": [
        "l = [\"Shreya\", \"Asmita\",\"Shikha\"]\n",
        "l[2]"
      ],
      "metadata": {
        "colab": {
          "base_uri": "https://localhost:8080/",
          "height": 35
        },
        "id": "041N8pl95zX9",
        "outputId": "2e0992e1-5b1a-4b4a-893f-cfde1f0851b4"
      },
      "execution_count": 76,
      "outputs": [
        {
          "output_type": "execute_result",
          "data": {
            "text/plain": [
              "'Shikha'"
            ],
            "application/vnd.google.colaboratory.intrinsic+json": {
              "type": "string"
            }
          },
          "metadata": {},
          "execution_count": 76
        }
      ]
    },
    {
      "cell_type": "markdown",
      "source": [
        "Question no. 29 Write a code to combine two dictionaries into one and print the result."
      ],
      "metadata": {
        "id": "KgQxJ_vV6HIr"
      }
    },
    {
      "cell_type": "code",
      "source": [
        "dic1 = {\"name\":\"Shreya\"}\n",
        "dic2 = {\"office\":\"Ericsson\"}\n",
        "sum = {**dic1, **dic2}\n",
        "print(sum)"
      ],
      "metadata": {
        "colab": {
          "base_uri": "https://localhost:8080/"
        },
        "id": "VEcqP1If6Pct",
        "outputId": "325e37e5-5e2e-4acc-a71f-a52c32d38b65"
      },
      "execution_count": 80,
      "outputs": [
        {
          "output_type": "stream",
          "name": "stdout",
          "text": [
            "{'name': 'Shreya', 'office': 'Ericsson'}\n"
          ]
        }
      ]
    },
    {
      "cell_type": "markdown",
      "source": [
        "Question no. 30 Write a code to convert a list of strings into a set."
      ],
      "metadata": {
        "id": "X8zCwEdx81Uy"
      }
    },
    {
      "cell_type": "code",
      "source": [
        "my_list = ['apple', 'banana', 'cherry', 'apple','orange']\n",
        "my_dict = set(my_list)\n",
        "print(my_dict)\n",
        "# it is showimg error because of external problem but the code is correct"
      ],
      "metadata": {
        "id": "JkGqYKnS9Jr9"
      },
      "execution_count": null,
      "outputs": []
    }
  ]
}